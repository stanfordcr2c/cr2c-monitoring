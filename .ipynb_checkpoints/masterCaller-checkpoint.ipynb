{
 "cells": [
  {
   "cell_type": "markdown",
   "metadata": {},
   "source": [
    "# Input Arguments -----------------------------------------------------------------------"
   ]
  },
  {
   "cell_type": "code",
   "execution_count": 9,
   "metadata": {},
   "outputs": [],
   "source": [
    "outdir_root = '/Users/josebolorinos/Google Drive/Codiga Center/Charts and Data/Monitoring Reports'\n",
    "hmi_path = '/Users/josebolorinos/Google Drive/Codiga Center/lbre-cr2c-col.stanford.edu/Most Plant Parameters_20181030062847.csv'\n",
    "start_dt_str = '8-26-18'\n",
    "hmi_start_dt_str = '10-12-18'\n",
    "end_dt_str = '10-26-18'"
   ]
  },
  {
   "cell_type": "markdown",
   "metadata": {},
   "source": [
    "# Load Modules"
   ]
  },
  {
   "cell_type": "code",
   "execution_count": 10,
   "metadata": {},
   "outputs": [],
   "source": [
    "# Utilities\n",
    "import os \n",
    "from datetime import datetime as dt\n",
    "from datetime import timedelta\n",
    "\n",
    "# CR2C\n",
    "import cr2c_labdata as pld\n",
    "import cr2c_opdata as op\n",
    "import cr2c_fielddata as fld\n",
    "import cr2c_validation as val"
   ]
  },
  {
   "cell_type": "markdown",
   "metadata": {},
   "source": [
    "# Create Directories"
   ]
  },
  {
   "cell_type": "code",
   "execution_count": 11,
   "metadata": {},
   "outputs": [],
   "source": [
    "outdir = os.path.join(outdir_root,'Monitoring Report ' + end_dt_str)\n",
    "\n",
    "if not os.path.exists(outdir): \n",
    "    \n",
    "    os.mkdir(outdir)\n",
    "    \n",
    "labOutdir = os.path.join(outdir,'Lab Data')\n",
    "\n",
    "if not os.path.exists(labOutdir): \n",
    "    \n",
    "\tos.mkdir(labOutdir)\n",
    "    \n",
    "HMIOutdir = os.path.join(outdir,'Operational Data')\n",
    "\n",
    "if not os.path.exists(HMIOutdir): \n",
    "    \n",
    "\tos.mkdir(HMIOutdir)\n",
    "    \n",
    "valOutdir = os.path.join(outdir,'Validation')\n",
    "\n",
    "if not os.path.exists(valOutdir): \n",
    "    \n",
    "\tos.mkdir(valOutdir)"
   ]
  },
  {
   "cell_type": "markdown",
   "metadata": {},
   "source": [
    "# Set Date Variables"
   ]
  },
  {
   "cell_type": "code",
   "execution_count": 12,
   "metadata": {},
   "outputs": [],
   "source": [
    "mo6_start_dt = dt.strptime(end_dt_str,'%m-%d-%y') - timedelta(days = 180)\n",
    "mo6_start_dt_str = dt.strftime(mo6_start_dt,'%m-%d-%y')\n",
    "mo1_start_dt = dt.strptime(end_dt_str,'%m-%d-%y') - timedelta(days = 30)\n",
    "mo1_start_dt_str = dt.strftime(mo1_start_dt,'%m-%d-%y')"
   ]
  },
  {
   "cell_type": "markdown",
   "metadata": {},
   "source": [
    "# Update with latest Lab and Field Data"
   ]
  },
  {
   "cell_type": "code",
   "execution_count": 13,
   "metadata": {},
   "outputs": [
    {
     "name": "stderr",
     "output_type": "stream",
     "text": [
      "/anaconda3/envs/cr2c-monitoring/lib/python3.6/site-packages/pandas/core/indexing.py:1472: FutureWarning: \n",
      "Passing list-likes to .loc or [] with any missing label will raise\n",
      "KeyError in the future, you can use .reindex() as an alternative.\n",
      "\n",
      "See the documentation here:\n",
      "https://pandas.pydata.org/pandas-docs/stable/indexing.html#deprecate-loc-reindex-listlike\n",
      "  return self._getitem_tuple(key)\n",
      "/Users/josebolorinos/Google Drive/Codiga Center/Code/cr2c-monitoring/cr2c_labdata.py:841: RuntimeWarning: invalid value encountered in log\n",
      "  blank_od_exp.loc[:,'diff'] = abs(np.log(blank_od_exp['Blank OD_x']/blank_od_exp['Blank OD_y']))\n"
     ]
    }
   ],
   "source": [
    "# Initialize lab data class\n",
    "cr2c_lr = pld.labrun() \n",
    "# Lab Data\n",
    "cr2c_lr.process_data()\n",
    "\n",
    "# Field Data\n",
    "fld.process_data('DailyLogResponsesV2')"
   ]
  },
  {
   "cell_type": "markdown",
   "metadata": {},
   "source": [
    "# Update with latest HMI Data"
   ]
  },
  {
   "cell_type": "code",
   "execution_count": 19,
   "metadata": {},
   "outputs": [
    {
     "name": "stdout",
     "output_type": "stream",
     "text": [
      "Getting aggregated data for DPIT300 (1HOUR)...\n"
     ]
    },
    {
     "name": "stderr",
     "output_type": "stream",
     "text": [
      "/Users/josebolorinos/Google Drive/Codiga Center/Code/cr2c-monitoring/cr2c_opdata.py:275: UserWarning: Given the range of data available for DPIT300, accurate aggregate values can only be obtained for: 10-13-18 to 10-28-18\n",
      "  wn.warn(msg.format(sid, dt.strftime(start_dt_warn, '%m-%d-%y'), dt.strftime(end_dt_warn, '%m-%d-%y')))\n"
     ]
    },
    {
     "name": "stdout",
     "output_type": "stream",
     "text": [
      "Getting aggregated data for DPIT301 (1HOUR)...\n"
     ]
    },
    {
     "ename": "IndexError",
     "evalue": "index 0 is out of bounds for axis 0 with size 0",
     "output_type": "error",
     "traceback": [
      "\u001b[0;31m---------------------------------------------------------------------------\u001b[0m",
      "\u001b[0;31mIndexError\u001b[0m                                Traceback (most recent call last)",
      "\u001b[0;32m<ipython-input-19-e82f9a17902c>\u001b[0m in \u001b[0;36m<module>\u001b[0;34m()\u001b[0m\n\u001b[1;32m     29\u001b[0m     \u001b[0;34m,\u001b[0m\u001b[0;34m\u001b[0m\u001b[0m\n\u001b[1;32m     30\u001b[0m     \u001b[0;34m[\u001b[0m\u001b[0;36m1\u001b[0m\u001b[0;34m]\u001b[0m\u001b[0;34m*\u001b[0m\u001b[0;36m3\u001b[0m\u001b[0;34m,\u001b[0m\u001b[0;34m\u001b[0m\u001b[0m\n\u001b[0;32m---> 31\u001b[0;31m     \u001b[0;34m[\u001b[0m\u001b[0;34m'HOUR'\u001b[0m\u001b[0;34m]\u001b[0m\u001b[0;34m*\u001b[0m\u001b[0;36m3\u001b[0m\u001b[0;34m\u001b[0m\u001b[0m\n\u001b[0m\u001b[1;32m     32\u001b[0m )\n\u001b[1;32m     33\u001b[0m \u001b[0;34m\u001b[0m\u001b[0m\n",
      "\u001b[0;32m~/Google Drive/Codiga Center/Code/cr2c-monitoring/cr2c_opdata.py\u001b[0m in \u001b[0;36mrun_agg\u001b[0;34m(self, stypes, sids, tperiods, ttypes, output_csv, output_sql, outdir)\u001b[0m\n\u001b[1;32m    342\u001b[0m \u001b[0;34m\u001b[0m\u001b[0m\n\u001b[1;32m    343\u001b[0m                 \u001b[0;31m# Clean inputs\u001b[0m\u001b[0;34m\u001b[0m\u001b[0;34m\u001b[0m\u001b[0m\n\u001b[0;32m--> 344\u001b[0;31m                 \u001b[0mttypes\u001b[0m\u001b[0;34m,\u001b[0m \u001b[0mstypes\u001b[0m \u001b[0;34m=\u001b[0m \u001b[0;34m[\u001b[0m\u001b[0mttype\u001b[0m\u001b[0;34m.\u001b[0m\u001b[0mupper\u001b[0m\u001b[0;34m(\u001b[0m\u001b[0;34m)\u001b[0m \u001b[0;32mfor\u001b[0m \u001b[0mttype\u001b[0m \u001b[0;32min\u001b[0m \u001b[0mttypes\u001b[0m\u001b[0;34m]\u001b[0m\u001b[0;34m,\u001b[0m \u001b[0;34m[\u001b[0m\u001b[0mstype\u001b[0m\u001b[0;34m.\u001b[0m\u001b[0mupper\u001b[0m\u001b[0;34m(\u001b[0m\u001b[0;34m)\u001b[0m \u001b[0;32mfor\u001b[0m \u001b[0mstype\u001b[0m \u001b[0;32min\u001b[0m \u001b[0mstypes\u001b[0m\u001b[0;34m]\u001b[0m\u001b[0;34m\u001b[0m\u001b[0m\n\u001b[0m\u001b[1;32m    345\u001b[0m \u001b[0;34m\u001b[0m\u001b[0m\n\u001b[1;32m    346\u001b[0m                 \u001b[0;32mfor\u001b[0m \u001b[0mtperiod\u001b[0m\u001b[0;34m,\u001b[0m \u001b[0mttype\u001b[0m\u001b[0;34m,\u001b[0m \u001b[0msid\u001b[0m\u001b[0;34m,\u001b[0m \u001b[0mstype\u001b[0m \u001b[0;32min\u001b[0m \u001b[0mzip\u001b[0m\u001b[0;34m(\u001b[0m\u001b[0mtperiods\u001b[0m\u001b[0;34m,\u001b[0m \u001b[0mttypes\u001b[0m\u001b[0;34m,\u001b[0m \u001b[0msids\u001b[0m\u001b[0;34m,\u001b[0m \u001b[0mstypes\u001b[0m\u001b[0;34m)\u001b[0m\u001b[0;34m:\u001b[0m\u001b[0;34m\u001b[0m\u001b[0m\n",
      "\u001b[0;32m~/Google Drive/Codiga Center/Code/cr2c-monitoring/cr2c_opdata.py\u001b[0m in \u001b[0;36mprep_opdata\u001b[0;34m(self, stype, sid)\u001b[0m\n\u001b[1;32m    259\u001b[0m                 \u001b[0mopdata\u001b[0m\u001b[0;34m.\u001b[0m\u001b[0mdrop\u001b[0m\u001b[0;34m(\u001b[0m\u001b[0;34m'Time'\u001b[0m\u001b[0;34m,\u001b[0m \u001b[0maxis\u001b[0m \u001b[0;34m=\u001b[0m \u001b[0;36m1\u001b[0m\u001b[0;34m,\u001b[0m \u001b[0minplace\u001b[0m \u001b[0;34m=\u001b[0m \u001b[0;32mTrue\u001b[0m\u001b[0;34m)\u001b[0m\u001b[0;34m\u001b[0m\u001b[0m\n\u001b[1;32m    260\u001b[0m \u001b[0;34m\u001b[0m\u001b[0m\n\u001b[0;32m--> 261\u001b[0;31m                 \u001b[0;32mif\u001b[0m \u001b[0mopdata\u001b[0m\u001b[0;34m.\u001b[0m\u001b[0mempty\u001b[0m\u001b[0;34m:\u001b[0m\u001b[0;34m\u001b[0m\u001b[0m\n\u001b[0m\u001b[1;32m    262\u001b[0m \u001b[0;34m\u001b[0m\u001b[0m\n\u001b[1;32m    263\u001b[0m                         \u001b[0;32mreturn\u001b[0m \u001b[0mopdata\u001b[0m\u001b[0;34m\u001b[0m\u001b[0m\n",
      "\u001b[0;32m/anaconda3/envs/cr2c-monitoring/lib/python3.6/site-packages/pandas/core/indexes/datetimelike.py\u001b[0m in \u001b[0;36m__getitem__\u001b[0;34m(self, key)\u001b[0m\n\u001b[1;32m    401\u001b[0m         \u001b[0mgetitem\u001b[0m \u001b[0;34m=\u001b[0m \u001b[0mself\u001b[0m\u001b[0;34m.\u001b[0m\u001b[0m_data\u001b[0m\u001b[0;34m.\u001b[0m\u001b[0m__getitem__\u001b[0m\u001b[0;34m\u001b[0m\u001b[0m\n\u001b[1;32m    402\u001b[0m         \u001b[0;32mif\u001b[0m \u001b[0mis_int\u001b[0m\u001b[0;34m:\u001b[0m\u001b[0;34m\u001b[0m\u001b[0m\n\u001b[0;32m--> 403\u001b[0;31m             \u001b[0mval\u001b[0m \u001b[0;34m=\u001b[0m \u001b[0mgetitem\u001b[0m\u001b[0;34m(\u001b[0m\u001b[0mkey\u001b[0m\u001b[0;34m)\u001b[0m\u001b[0;34m\u001b[0m\u001b[0m\n\u001b[0m\u001b[1;32m    404\u001b[0m             \u001b[0;32mreturn\u001b[0m \u001b[0mself\u001b[0m\u001b[0;34m.\u001b[0m\u001b[0m_box_func\u001b[0m\u001b[0;34m(\u001b[0m\u001b[0mval\u001b[0m\u001b[0;34m)\u001b[0m\u001b[0;34m\u001b[0m\u001b[0m\n\u001b[1;32m    405\u001b[0m         \u001b[0;32melse\u001b[0m\u001b[0;34m:\u001b[0m\u001b[0;34m\u001b[0m\u001b[0m\n",
      "\u001b[0;31mIndexError\u001b[0m: index 0 is out of bounds for axis 0 with size 0"
     ]
    }
   ],
   "source": [
    "# Initialize HMI class\n",
    "op_run = op.opdata_agg(\n",
    "    hmi_start_dt_str, # Start of date range we want summary data for \n",
    "    end_dt_str, # End of date range we want summary data for)\n",
    "    ip_path = hmi_path\n",
    ")\n",
    "\n",
    "# Hourly averages\n",
    "op_run.run_agg(\n",
    "    ['COND']*4 + \n",
    "    ['PH']*4 + \n",
    "    ['WATER']*10 + \n",
    "    ['GAS']*2 + \n",
    "    ['TEMP']*3 + \n",
    "    ['TMP']*1 +\n",
    "    ['DPI']*3 + \n",
    "    ['PRESSURE']*3 + \n",
    "    ['LEVEL']*5\n",
    "    ,\n",
    "    ['AT201','AT303','AT306','AT309'] + \n",
    "    ['AT203','AT305','AT308','AT311'] + \n",
    "    ['FT200','FT201','FT202','FT300','FT301','FT302','FT303','FT304','FT305','FIT600'] + \n",
    "    ['FT700','FT704'] + \n",
    "    ['AT202','AT304','AT310'] +\n",
    "    ['AIT302'] + \n",
    "    ['DPIT300','DPIT301','DPIT302'] +\n",
    "    ['PIT205','PIT700','PIT702','PIT704'] + \n",
    "    ['LT200','LT201','LIT300','LIT301','LIT302']\n",
    "    ,\n",
    "    [1]*35,\n",
    "    ['HOUR']*35\n",
    ")\n",
    "\n",
    "# Minute averages (for sensors we are validating and membrane parameters)\n",
    "op_run.run_agg(\n",
    "    ['water'] +\n",
    "    ['tmp'] +\n",
    "    ['ph']*2 + \n",
    "    ['dpi']*2 +\n",
    "    ['pressure']*2\n",
    "    , # Type of sensor (case insensitive, can be water, gas, pH, conductivity, temp, or tmp\n",
    "    ['FT305'] +\n",
    "    ['AIT302'] +\n",
    "    ['AT203','AT305'] + \n",
    "    ['DPIT300','DPIT301'] +\n",
    "    ['PIT700','PIT704']\n",
    "    , # Sensor ids that you want summary data for (have to be in HMI data file obviously)    \n",
    "    [1]*8, # Number of hours/minutes we want to average over\n",
    "    ['minute']*8, # Type of time period (can be \"hour\" or \"minute\")\n",
    ")\n"
   ]
  },
  {
   "cell_type": "markdown",
   "metadata": {},
   "source": [
    "# Get Lab Data Plots"
   ]
  },
  {
   "cell_type": "code",
   "execution_count": null,
   "metadata": {},
   "outputs": [],
   "source": [
    "# Create and output charts\n",
    "pld.get_lab_plots(\n",
    "\t# Plot start date\n",
    "\tstart_dt_str,\n",
    "\t# Plot end date\n",
    "\tend_dt_str,\n",
    "\t# List of monitoring data types to produce charts for (correspond to tabs on gsheets workbook)\n",
    "\t['PH','ALKALINITY'], \n",
    "\t# Variable to break down into panels according to\n",
    "\t'Stage',\n",
    "\t# Stages to Subset to\n",
    "\t['Microscreen','MESH','AFBR'],\n",
    "\toutdir = labOutdir\n",
    ")\n",
    "pld.get_lab_plots(\n",
    "\t# Plot start date\n",
    "\tstart_dt_str,\n",
    "\t# Plot end date\n",
    "\tend_dt_str,\n",
    "\t# List of monitoring data types to produce charts for (correspond to tabs on gsheets workbook)\n",
    "\t['COD','TSS'], \n",
    "\t# Variable to break down into panels according to\n",
    "\t'Type',\n",
    "\t# Stages to Subset to\n",
    "\tstage_sub = ['AFBR'],\n",
    "\ttype_sub = ['TSS','VSS','Total','Soluble','Particulate'],\n",
    "\toutdir = labOutdir,\n",
    "\topfile_suff = 'AFBR'\n",
    ")\n",
    "pld.get_lab_plots(\n",
    "\t# Plot start date\n",
    "\tstart_dt_str,\n",
    "\t# Plot end date\n",
    "\tend_dt_str,\n",
    "\t# List of monitoring data types to produce charts for (correspond to tabs on gsheets workbook)\n",
    "\t['BOD'], \n",
    "\t# Variable to break down into panels according to\n",
    "\t'Stage',\n",
    "\t# Stages to Subset to\n",
    "\t['Microscreen','MESH'],\n",
    "\toutdir = labOutdir, \n",
    "\topfile_suff = 'MS_MESH'\n",
    ")\n",
    "pld.get_lab_plots(\n",
    "\t# Plot start date\n",
    "\tmo6_start_dt_str,\n",
    "\t# Plot end date\n",
    "\tend_dt_str,\n",
    "\t# List of monitoring data types to produce charts for (correspond to tabs on gsheets workbook)\n",
    "\t['AMMONIA'], \n",
    "\t# Variable to break down into panels according to\n",
    "\t'Stage',\n",
    "\t# Stages to Subset to\n",
    "\t['Microscreen','MESH'],\n",
    "\toutdir = labOutdir,\n",
    "\topfile_suff = 'MS_MESH'\n",
    ")\n",
    "# pld.get_lab_plots(\n",
    "# \t# Plot start date\n",
    "# \tmo6_start_dt_str,\n",
    "# \t# Plot end date\n",
    "# \tend_dt_str,\n",
    "# \t# List of monitoring data types to produce charts for (correspond to tabs on gsheets workbook)\n",
    "# \t['VFA'], \n",
    "# \t# Variable to break down into panels according to\n",
    "# \t'Type',\n",
    "# \t# Stages to Subset to\n",
    "# \toutdir = labOutdir\n",
    "# )\n",
    "# Get wide tables\n",
    "cr2c_lr.summarize_tables(end_dt_str, 240, add_time_el = True, outdir = labOutdir)\n"
   ]
  },
  {
   "cell_type": "markdown",
   "metadata": {},
   "source": [
    "# Get HMI Data Plots"
   ]
  },
  {
   "cell_type": "code",
   "execution_count": 14,
   "metadata": {},
   "outputs": [],
   "source": [
    "op_run.get_tmp_plots(\n",
    "\tstart_dt_str,\n",
    "\tend_dt_str,\n",
    "\toutdir = HMIOutdir\n",
    ")\n",
    "op_run.get_temp_plots(\n",
    "\tend_dt_str, \n",
    "\tplt_colors =['c','m'],\n",
    "\toutdir = HMIOutdir\n",
    ")\n",
    "op_run.get_feed_sumst(\n",
    "\t'GAS',\n",
    "\t['plot','table'],\n",
    "\tstart_dt_str,\n",
    "\tend_dt_str,\n",
    "\tsum_period = 'DAY',\n",
    "\tplt_type = 'bar', \n",
    "\tplt_colors = ['#90775a','#eeae10'],\n",
    "\tylabel = 'Biogas Production (L/day)',\n",
    "\toutdir = HMIOutdir\n",
    ")\n",
    "op_run.get_feed_sumst(\n",
    "\t'WATER',\n",
    "\t['plot','table'],\n",
    "\tstart_dt_str,\n",
    "\tend_dt_str,\n",
    "\tsum_period = 'DAY',  \n",
    "\tplt_type = 'bar', \n",
    "\tplt_colors = ['#8c9c81','#7fbfff'],\n",
    "\tylabel = 'Reactor Feeding (Gal/Day)',\n",
    "\toutdir = HMIOutdir\n",
    ")"
   ]
  },
  {
   "cell_type": "markdown",
   "metadata": {},
   "source": [
    "# Get Validation Plots"
   ]
  },
  {
   "cell_type": "code",
   "execution_count": 15,
   "metadata": {},
   "outputs": [
    {
     "name": "stderr",
     "output_type": "stream",
     "text": [
      "/anaconda3/envs/cr2c-monitoring/lib/python3.6/site-packages/pandas/core/indexing.py:543: SettingWithCopyWarning: \n",
      "A value is trying to be set on a copy of a slice from a DataFrame.\n",
      "Try using .loc[row_indexer,col_indexer] = value instead\n",
      "\n",
      "See the caveats in the documentation: http://pandas.pydata.org/pandas-docs/stable/indexing.html#indexing-view-versus-copy\n",
      "  self.obj[item] = s\n",
      "/Users/josebolorinos/Google Drive/Codiga Center/Code/cr2c-monitoring/cr2c_fielddata.py:105: FutureWarning: Sorting because non-concatenation axis is not aligned. A future version\n",
      "of pandas will change to not sort by default.\n",
      "\n",
      "To accept the future behavior, pass 'sort=False'.\n",
      "\n",
      "To retain the current behavior and silence the warning, pass 'sort=True'.\n",
      "\n",
      "  join = 'outer'\n"
     ]
    }
   ],
   "source": [
    "# Initialize validation class\n",
    "cr2c_vl = val.cr2c_validation(outdir = valOutdir, ip_path = hmi_path)\n",
    "\n",
    "# Get COD balance and biotech parameters (with plots)\n",
    "cr2c_vl.get_cod_bal(end_dt_str, 8, plot = True)\n",
    "cr2c_vl.get_biotech_params(end_dt_str, 8, plot = True)\n",
    "\n",
    "# Get validation plots\n",
    "cr2c_vl.instr_val(\n",
    "    valtypes = ['PH','PH'],\n",
    "    start_dt_str = mo1_start_dt_str,\n",
    "    end_dt_str = end_dt_str,\n",
    "    op_sids = ['AT203','AT305'],\n",
    "    ltypes = ['PH','PH'],\n",
    "    lstages = ['Microscreen','AFBR']\n",
    ")\n",
    "cr2c_vl.instr_val(\n",
    "    valtypes = ['DPI','DPI','PRESSURE','PRESSURE'],\n",
    "    start_dt_str = mo1_start_dt_str,\n",
    "    end_dt_str = end_dt_str,\n",
    "    op_sids = ['DPIT300','DPIT301','PIT700','PIT704'],\n",
    "    fld_varnames = [('Before Pump: R300','After Pump: R300'),('Before Pump: R301','After Pump: R301'),'Manometer Pressure: R300','Manometer Pressure: R301']\n",
    ")"
   ]
  },
  {
   "cell_type": "code",
   "execution_count": null,
   "metadata": {},
   "outputs": [],
   "source": []
  }
 ],
 "metadata": {
  "kernelspec": {
   "display_name": "Python 3",
   "language": "python",
   "name": "python3"
  },
  "language_info": {
   "codemirror_mode": {
    "name": "ipython",
    "version": 3
   },
   "file_extension": ".py",
   "mimetype": "text/x-python",
   "name": "python",
   "nbconvert_exporter": "python",
   "pygments_lexer": "ipython3",
   "version": "3.6.6"
  }
 },
 "nbformat": 4,
 "nbformat_minor": 2
}

{
 "cells": [
  {
   "cell_type": "markdown",
   "metadata": {},
   "source": [
    "# Input Arguments -----------------------------------------------------------------------"
   ]
  },
  {
   "cell_type": "code",
   "execution_count": 1,
   "metadata": {},
   "outputs": [],
   "source": [
    "outdir_root = '/Users/josebolorinos/Google Drive/Codiga Center/Charts and Data/Monitoring Reports'\n",
    "hmi_path = '/Users/josebolorinos/Google Drive/Codiga Center/HMI Data/Reactor Feeding - Raw_20180820081318.csv'\n",
    "start_dt_str = '6-17-18'\n",
    "hmi_start_dt_str = '8-11-18'\n",
    "end_dt_str = '8-17-18'"
   ]
  },
  {
   "cell_type": "markdown",
   "metadata": {},
   "source": [
    "# Load Modules"
   ]
  },
  {
   "cell_type": "code",
   "execution_count": 27,
   "metadata": {},
   "outputs": [],
   "source": [
    "# Utilities\n",
    "import warnings\n",
    "import os \n",
    "import math\n",
    "import sys\n",
    "\n",
    "# CR2C\n",
    "import cr2c_labdata as pld\n",
    "import cr2c_hmidata as hmi\n",
    "import cr2c_fielddata as fld\n",
    "import cr2c_validation as val"
   ]
  },
  {
   "cell_type": "markdown",
   "metadata": {},
   "source": [
    "# Create Directories"
   ]
  },
  {
   "cell_type": "code",
   "execution_count": 5,
   "metadata": {},
   "outputs": [],
   "source": [
    "outdir = os.path.join(outdir_root,'Monitoring Report ' + end_dt_str)\n",
    "\n",
    "if not os.path.exists(outdir): \n",
    "    \n",
    "    os.mkdir(outdir)\n",
    "    \n",
    "labOutdir = os.path.join(outdir,'Lab Data')\n",
    "\n",
    "if not os.path.exists(labOutdir): \n",
    "    \n",
    "\tos.mkdir(labOutdir)\n",
    "    \n",
    "HMIOutdir = os.path.join(outdir,'Operational Data')\n",
    "\n",
    "if not os.path.exists(HMIOutdir): \n",
    "    \n",
    "\tos.mkdir(HMIOutdir)\n",
    "    \n",
    "valOutdir = os.path.join(outdir,'Validation')\n",
    "\n",
    "if not os.path.exists(valOutdir): \n",
    "    \n",
    "\tos.mkdir(valOutdir)"
   ]
  },
  {
   "cell_type": "markdown",
   "metadata": {},
   "source": [
    "# Set Date Variables"
   ]
  },
  {
   "cell_type": "code",
   "execution_count": 7,
   "metadata": {},
   "outputs": [],
   "source": [
    "mo6_start_dt = dt.strptime(end_dt_str,'%m-%d-%y') - timedelta(days = 180)\n",
    "mo6_start_dt_str = dt.strftime(mo6_start_dt,'%m-%d-%y')\n",
    "mo1_start_dt = dt.strptime(end_dt_str,'%m-%d-%y') - timedelta(days = 30)\n",
    "mo1_start_dt_str = dt.strftime(mo1_start_dt,'%m-%d-%y')"
   ]
  },
  {
   "cell_type": "markdown",
   "metadata": {},
   "source": [
    "# Update with latest Lab and Field Data"
   ]
  },
  {
   "cell_type": "code",
   "execution_count": 20,
   "metadata": {},
   "outputs": [],
   "source": [
    "# Initialize lab data class\n",
    "cr2c_lr = pld.labrun() \n",
    "# Lab Data\n",
    "# cr2c_lr.process_data()\n",
    "\n",
    "# Field Data\n",
    "# fld.process_data()"
   ]
  },
  {
   "cell_type": "markdown",
   "metadata": {},
   "source": [
    "# Update with latest HMI Data"
   ]
  },
  {
   "cell_type": "code",
   "execution_count": 4,
   "metadata": {},
   "outputs": [
    {
     "name": "stdout",
     "output_type": "stream",
     "text": [
      "Getting aggregated data for FT700 (1HOUR)...\n"
     ]
    },
    {
     "name": "stderr",
     "output_type": "stream",
     "text": [
      "/Users/josebolorinos/Google Drive/Codiga Center/Code/cr2c-monitoring/cr2c_hmidata.py:258: UserWarning:\n",
      "\n",
      "Given the range of data available for FT700, accurate aggregate values can only be obtained for: 08-13-18 to 08-18-18\n",
      "\n"
     ]
    },
    {
     "name": "stdout",
     "output_type": "stream",
     "text": [
      "Getting aggregated data for FT704 (1HOUR)...\n",
      "Getting aggregated data for FT200 (1HOUR)...\n",
      "Getting aggregated data for FT202 (1HOUR)...\n",
      "Getting aggregated data for FT305 (1HOUR)...\n",
      "Getting aggregated data for AIT302 (1HOUR)...\n",
      "Getting aggregated data for AT304 (1HOUR)...\n",
      "Getting aggregated data for AT310 (1HOUR)...\n",
      "Getting aggregated data for AT203 (1HOUR)...\n",
      "Getting aggregated data for AT305 (1HOUR)...\n",
      "Getting aggregated data for DPIT300 (1HOUR)...\n",
      "Getting aggregated data for DPIT301 (1HOUR)...\n"
     ]
    },
    {
     "name": "stderr",
     "output_type": "stream",
     "text": [
      "/Users/josebolorinos/Google Drive/Codiga Center/Code/cr2c-monitoring/cr2c_hmidata.py:258: UserWarning:\n",
      "\n",
      "Given the range of data available for DPIT301, accurate aggregate values can only be obtained for: 08-14-18 to 08-12-18\n",
      "\n"
     ]
    },
    {
     "name": "stdout",
     "output_type": "stream",
     "text": [
      "Getting aggregated data for PIT700 (1HOUR)...\n",
      "Getting aggregated data for PIT704 (1HOUR)...\n",
      "Getting aggregated data for FT305 (1MINUTE)...\n",
      "Getting aggregated data for AIT302 (1MINUTE)...\n",
      "Getting aggregated data for AT203 (1MINUTE)...\n",
      "Getting aggregated data for AT305 (1MINUTE)...\n",
      "Getting aggregated data for DPIT300 (1MINUTE)...\n",
      "Getting aggregated data for DPIT301 (1MINUTE)...\n",
      "Getting aggregated data for PIT700 (1MINUTE)...\n",
      "Getting aggregated data for PIT704 (1MINUTE)...\n"
     ]
    }
   ],
   "source": [
    "# Initialize HMI class\n",
    "hmi_run = hmi.hmi_data_agg(\n",
    "    hmi_start_dt_str, # Start of date range we want summary data for \n",
    "    end_dt_str, # End of date range we want summary data for)\n",
    "    hmi_path = hmi_path\n",
    ")\n",
    "\n",
    "# Hourly averages\n",
    "hmi_run.run_report(\n",
    "    [1]*14, # Number of hours/minutes we want to average over\n",
    "    ['hour']*14, # Type of time period (can be \"hour\" or \"minute\")\n",
    "    [\n",
    "        'FT700','FT704','FT200','FT202','FT305',\n",
    "        'AIT302','AT304','AT310','AT203','AT305',\n",
    "        'DPIT300','DPIT301','PIT700','PIT704'\n",
    "    ], # Sensor ids that we want summary data for (have to be in HMI data file obviously)\n",
    "    [\n",
    "        'gas','gas','water','water','water',\n",
    "        'tmp','temp','temp','ph','ph',\n",
    "        'dpi','dpi','pressure','pressure'\n",
    "    ] # Type of sensor (case insensitive, can be water, gas, pH, conductivity, temp, or tmp\n",
    ")\n",
    "\n",
    "# Minute averages (for sensors we are validating and membrane parameters)\n",
    "hmi_run.run_report(\n",
    "    [1]*8, # Number of hours/minutes we want to average over\n",
    "    ['minute']*8, # Type of time period (can be \"hour\" or \"minute\")\n",
    "    ['FT305','AIT302','AT203','AT305','DPIT300','DPIT301','PIT700','PIT704'], # Sensor ids that you want summary data for (have to be in HMI data file obviously)\n",
    "    ['water','tmp','ph','ph','dpi','dpi','pressure','pressure'] # Type of sensor (case insensitive, can be water, gas, pH, conductivity, temp, or tmp\n",
    ")\n"
   ]
  },
  {
   "cell_type": "markdown",
   "metadata": {},
   "source": [
    "# Get Lab Data Plots"
   ]
  },
  {
   "cell_type": "code",
   "execution_count": 21,
   "metadata": {},
   "outputs": [],
   "source": [
    "# # Create and output charts\n",
    "# pld.get_lab_plots(\n",
    "# \t# Plot start date\n",
    "# \tstart_dt_str,\n",
    "# \t# Plot end date\n",
    "# \tend_dt_str,\n",
    "# \t# List of monitoring data types to produce charts for (correspond to tabs on gsheets workbook)\n",
    "# \t['PH','ALKALINITY'], \n",
    "# \t# Variable to break down into panels according to\n",
    "# \t'Stage',\n",
    "# \t# Stages to Subset to\n",
    "# \t['Microscreen','MESH','AFBR','Duty AFMBR MLSS'],\n",
    "# \toutdir = labOutdir\n",
    "# )\n",
    "# pld.get_lab_plots(\n",
    "# \t# Plot start date\n",
    "# \tstart_dt_str,\n",
    "# \t# Plot end date\n",
    "# \tend_dt_str,\n",
    "# \t# List of monitoring data types to produce charts for (correspond to tabs on gsheets workbook)\n",
    "# \t['COD','TSS'], \n",
    "# \t# Variable to break down into panels according to\n",
    "# \t'Type',\n",
    "# \t# Stages to Subset to\n",
    "# \tstage_sub = ['AFBR','Duty AFMBR MLSS'],\n",
    "# \ttype_sub = ['TSS','VSS','Total','Soluble','Particulate'],\n",
    "# \toutdir = labOutdir,\n",
    "# \topfile_suff = 'AFBR_DAFMBRMLSS'\n",
    "# )\n",
    "pld.get_lab_plots(\n",
    "\t# Plot start date\n",
    "\tstart_dt_str,\n",
    "\t# Plot end date\n",
    "\tend_dt_str,\n",
    "\t# List of monitoring data types to produce charts for (correspond to tabs on gsheets workbook)\n",
    "\t['COD','TSS'], \n",
    "\t# Variable to break down into panels according to\n",
    "\t'Stage',\n",
    "\t# Stages to Subset to\n",
    "\tstage_sub = ['Microscreen','MESH'],\n",
    "\ttype_sub = ['TSS','VSS','Total','Soluble','Particulate'],\n",
    "\toutdir = labOutdir,\n",
    "\topfile_suff = 'MS_MESH'\n",
    ")\n",
    "# pld.get_lab_plots(\n",
    "# \t# Plot start date\n",
    "# \tstart_dt_str,\n",
    "# \t# Plot end date\n",
    "# \tend_dt_str,\n",
    "# \t# List of monitoring data types to produce charts for (correspond to tabs on gsheets workbook)\n",
    "# \t['BOD'], \n",
    "# \t# Variable to break down into panels according to\n",
    "# \t'Stage',\n",
    "# \t# Stages to Subset to\n",
    "# \t['Microscreen','MESH'],\n",
    "# \toutdir = labOutdir, \n",
    "# \topfile_suff = 'MS_MESH'\n",
    "# )\n",
    "# pld.get_lab_plots(\n",
    "# \t# Plot start date\n",
    "# \tmo6_start_dt_str,\n",
    "# \t# Plot end date\n",
    "# \tend_dt_str,\n",
    "# \t# List of monitoring data types to produce charts for (correspond to tabs on gsheets workbook)\n",
    "# \t['Ammonia'], \n",
    "# \t# Variable to break down into panels according to\n",
    "# \t'Stage',\n",
    "# \t# Stages to Subset to\n",
    "# \t['Microscreen','MESH'],\n",
    "# \toutdir = labOutdir,\n",
    "# \topfile_suff = 'MS_MESH'\n",
    "# )\n",
    "# pld.get_lab_plots(\n",
    "# \t# Plot start date\n",
    "# \tmo6_start_dt_str,\n",
    "# \t# Plot end date\n",
    "# \tend_dt_str,\n",
    "# \t# List of monitoring data types to produce charts for (correspond to tabs on gsheets workbook)\n",
    "# \t['VFA'], \n",
    "# \t# Variable to break down into panels according to\n",
    "# \t'Type',\n",
    "# \t# Stages to Subset to\n",
    "# \toutdir = labOutdir\n",
    "# )\n",
    "# # Get wide tables\n",
    "# cr2c_lr.summarize_tables(end_dt_str, 240, add_time_el = True, outdir = labOutdir)\n"
   ]
  },
  {
   "cell_type": "markdown",
   "metadata": {},
   "source": [
    "# Get HMI Data Plots"
   ]
  },
  {
   "cell_type": "code",
   "execution_count": 9,
   "metadata": {},
   "outputs": [],
   "source": [
    "hmi_run.get_tmp_plots(\n",
    "\tstart_dt_str,\n",
    "\tend_dt_str,\n",
    "\toutdir = HMIOutdir\n",
    ")\n",
    "hmi_run.get_temp_plots(\n",
    "\tend_dt_str, \n",
    "\tplt_colors =['c','m'],\n",
    "\toutdir = HMIOutdir\n",
    ")\n",
    "hmi_run.get_feed_sumst(\n",
    "\t'GAS',\n",
    "\t['plot','table'],\n",
    "\tstart_dt_str,\n",
    "\tend_dt_str,\n",
    "\tsum_period = 'DAY',\n",
    "\tplt_type = 'bar', \n",
    "\tplt_colors = ['#90775a','#eeae10'],\n",
    "\tylabel = 'Biogas Production (L/day)',\n",
    "\toutdir = HMIOutdir\n",
    ")\n",
    "hmi_run.get_feed_sumst(\n",
    "\t'WATER',\n",
    "\t['plot','table'],\n",
    "\tstart_dt_str,\n",
    "\tend_dt_str,\n",
    "\tsum_period = 'DAY',  \n",
    "\tplt_type = 'bar', \n",
    "\tplt_colors = ['#8c9c81','#7fbfff'],\n",
    "\tylabel = 'Reactor Feeding (Gal/Day)',\n",
    "\toutdir = HMIOutdir\n",
    ")"
   ]
  },
  {
   "cell_type": "markdown",
   "metadata": {},
   "source": [
    "# Get Validation Plots"
   ]
  },
  {
   "cell_type": "code",
   "execution_count": 11,
   "metadata": {},
   "outputs": [
    {
     "name": "stderr",
     "output_type": "stream",
     "text": [
      "/anaconda3/envs/cr2c-monitoring/lib/python3.6/site-packages/pandas/core/indexing.py:543: SettingWithCopyWarning:\n",
      "\n",
      "\n",
      "A value is trying to be set on a copy of a slice from a DataFrame.\n",
      "Try using .loc[row_indexer,col_indexer] = value instead\n",
      "\n",
      "See the caveats in the documentation: http://pandas.pydata.org/pandas-docs/stable/indexing.html#indexing-view-versus-copy\n",
      "\n"
     ]
    },
    {
     "ename": "TypeError",
     "evalue": "unsupported operand type(s) for +: 'datetime.date' and 'TimedeltaIndex'",
     "output_type": "error",
     "traceback": [
      "\u001b[0;31m---------------------------------------------------------------------------\u001b[0m",
      "\u001b[0;31mTypeError\u001b[0m                                 Traceback (most recent call last)",
      "\u001b[0;32m<ipython-input-11-eaefc1870399>\u001b[0m in \u001b[0;36m<module>\u001b[0;34m()\u001b[0m\n\u001b[1;32m      3\u001b[0m \u001b[0;34m\u001b[0m\u001b[0m\n\u001b[1;32m      4\u001b[0m \u001b[0;31m# Get COD balance and biotech parameters (with plots)\u001b[0m\u001b[0;34m\u001b[0m\u001b[0;34m\u001b[0m\u001b[0m\n\u001b[0;32m----> 5\u001b[0;31m \u001b[0mcr2c_vl\u001b[0m\u001b[0;34m.\u001b[0m\u001b[0mget_cod_bal\u001b[0m\u001b[0;34m(\u001b[0m\u001b[0mend_dt_str\u001b[0m\u001b[0;34m,\u001b[0m \u001b[0;36m8\u001b[0m\u001b[0;34m,\u001b[0m \u001b[0mplot\u001b[0m \u001b[0;34m=\u001b[0m \u001b[0;32mTrue\u001b[0m\u001b[0;34m)\u001b[0m\u001b[0;34m\u001b[0m\u001b[0m\n\u001b[0m\u001b[1;32m      6\u001b[0m \u001b[0mcr2c_vl\u001b[0m\u001b[0;34m.\u001b[0m\u001b[0mget_biotech_params\u001b[0m\u001b[0;34m(\u001b[0m\u001b[0mend_dt_str\u001b[0m\u001b[0;34m,\u001b[0m \u001b[0;36m8\u001b[0m\u001b[0;34m,\u001b[0m \u001b[0mplot\u001b[0m \u001b[0;34m=\u001b[0m \u001b[0;32mTrue\u001b[0m\u001b[0;34m)\u001b[0m\u001b[0;34m\u001b[0m\u001b[0m\n\u001b[1;32m      7\u001b[0m \u001b[0;34m\u001b[0m\u001b[0m\n",
      "\u001b[0;32m~/Google Drive/Codiga Center/Code/cr2c-monitoring/cr2c_validation.py\u001b[0m in \u001b[0;36mget_cod_bal\u001b[0;34m(self, end_dt_str, nweeks, plot, table)\u001b[0m\n\u001b[1;32m    382\u001b[0m                 \u001b[0mcod_bal_dat\u001b[0m\u001b[0;34m[\u001b[0m\u001b[0;34m'Weeks Back'\u001b[0m\u001b[0;34m]\u001b[0m \u001b[0;34m=\u001b[0m\u001b[0;31m \u001b[0m\u001b[0;31m\\\u001b[0m\u001b[0;34m\u001b[0m\u001b[0m\n\u001b[1;32m    383\u001b[0m                         \u001b[0mpd\u001b[0m\u001b[0;34m.\u001b[0m\u001b[0mto_timedelta\u001b[0m\u001b[0;34m(\u001b[0m\u001b[0mnp\u001b[0m\u001b[0;34m.\u001b[0m\u001b[0mfloor\u001b[0m\u001b[0;34m(\u001b[0m\u001b[0;34m(\u001b[0m\u001b[0mcod_bal_dat\u001b[0m\u001b[0;34m[\u001b[0m\u001b[0;34m'Date'\u001b[0m\u001b[0;34m]\u001b[0m \u001b[0;34m-\u001b[0m \u001b[0mend_dt\u001b[0m\u001b[0;34m)\u001b[0m\u001b[0;34m/\u001b[0m\u001b[0mnp\u001b[0m\u001b[0;34m.\u001b[0m\u001b[0mtimedelta64\u001b[0m\u001b[0;34m(\u001b[0m\u001b[0;36m7\u001b[0m\u001b[0;34m,\u001b[0m\u001b[0;34m'D'\u001b[0m\u001b[0;34m)\u001b[0m\u001b[0;34m)\u001b[0m\u001b[0;34m*\u001b[0m\u001b[0;36m7\u001b[0m\u001b[0;34m,\u001b[0m \u001b[0munit\u001b[0m \u001b[0;34m=\u001b[0m \u001b[0;34m'D'\u001b[0m\u001b[0;34m)\u001b[0m\u001b[0;34m\u001b[0m\u001b[0m\n\u001b[0;32m--> 384\u001b[0;31m                 \u001b[0mcod_bal_dat\u001b[0m\u001b[0;34m[\u001b[0m\u001b[0;34m'Week Start'\u001b[0m\u001b[0;34m]\u001b[0m \u001b[0;34m=\u001b[0m \u001b[0mend_dt\u001b[0m \u001b[0;34m+\u001b[0m \u001b[0mcod_bal_dat\u001b[0m\u001b[0;34m[\u001b[0m\u001b[0;34m'Weeks Back'\u001b[0m\u001b[0;34m]\u001b[0m\u001b[0;34m\u001b[0m\u001b[0m\n\u001b[0m\u001b[1;32m    385\u001b[0m \t\tcod_bal_dat = cod_bal_dat.loc[\n\u001b[1;32m    386\u001b[0m                         \u001b[0;34m(\u001b[0m\u001b[0mcod_bal_dat\u001b[0m\u001b[0;34m[\u001b[0m\u001b[0;34m'Date'\u001b[0m\u001b[0;34m]\u001b[0m \u001b[0;34m>=\u001b[0m \u001b[0mstart_dt\u001b[0m\u001b[0;34m)\u001b[0m \u001b[0;34m&\u001b[0m \u001b[0;34m(\u001b[0m\u001b[0mcod_bal_dat\u001b[0m\u001b[0;34m[\u001b[0m\u001b[0;34m'Date'\u001b[0m\u001b[0;34m]\u001b[0m \u001b[0;34m<=\u001b[0m \u001b[0mend_dt\u001b[0m\u001b[0;34m)\u001b[0m\u001b[0;34m,\u001b[0m\u001b[0;34m\u001b[0m\u001b[0m\n",
      "\u001b[0;32m/anaconda3/envs/cr2c-monitoring/lib/python3.6/site-packages/pandas/core/ops.py\u001b[0m in \u001b[0;36mwrapper\u001b[0;34m(left, right)\u001b[0m\n\u001b[1;32m   1053\u001b[0m \u001b[0;34m\u001b[0m\u001b[0m\n\u001b[1;32m   1054\u001b[0m         \u001b[0;32melif\u001b[0m \u001b[0mis_timedelta64_dtype\u001b[0m\u001b[0;34m(\u001b[0m\u001b[0mleft\u001b[0m\u001b[0;34m)\u001b[0m\u001b[0;34m:\u001b[0m\u001b[0;34m\u001b[0m\u001b[0m\n\u001b[0;32m-> 1055\u001b[0;31m             \u001b[0mresult\u001b[0m \u001b[0;34m=\u001b[0m \u001b[0mdispatch_to_index_op\u001b[0m\u001b[0;34m(\u001b[0m\u001b[0mop\u001b[0m\u001b[0;34m,\u001b[0m \u001b[0mleft\u001b[0m\u001b[0;34m,\u001b[0m \u001b[0mright\u001b[0m\u001b[0;34m,\u001b[0m \u001b[0mpd\u001b[0m\u001b[0;34m.\u001b[0m\u001b[0mTimedeltaIndex\u001b[0m\u001b[0;34m)\u001b[0m\u001b[0;34m\u001b[0m\u001b[0m\n\u001b[0m\u001b[1;32m   1056\u001b[0m             return construct_result(left, result,\n\u001b[1;32m   1057\u001b[0m                                     \u001b[0mindex\u001b[0m\u001b[0;34m=\u001b[0m\u001b[0mleft\u001b[0m\u001b[0;34m.\u001b[0m\u001b[0mindex\u001b[0m\u001b[0;34m,\u001b[0m \u001b[0mname\u001b[0m\u001b[0;34m=\u001b[0m\u001b[0mres_name\u001b[0m\u001b[0;34m,\u001b[0m\u001b[0;34m\u001b[0m\u001b[0m\n",
      "\u001b[0;32m/anaconda3/envs/cr2c-monitoring/lib/python3.6/site-packages/pandas/core/ops.py\u001b[0m in \u001b[0;36mdispatch_to_index_op\u001b[0;34m(op, left, right, index_class)\u001b[0m\n\u001b[1;32m   1099\u001b[0m         \u001b[0mleft_idx\u001b[0m \u001b[0;34m=\u001b[0m \u001b[0mleft_idx\u001b[0m\u001b[0;34m.\u001b[0m\u001b[0m_shallow_copy\u001b[0m\u001b[0;34m(\u001b[0m\u001b[0mfreq\u001b[0m\u001b[0;34m=\u001b[0m\u001b[0;32mNone\u001b[0m\u001b[0;34m)\u001b[0m\u001b[0;34m\u001b[0m\u001b[0m\n\u001b[1;32m   1100\u001b[0m     \u001b[0;32mtry\u001b[0m\u001b[0;34m:\u001b[0m\u001b[0;34m\u001b[0m\u001b[0m\n\u001b[0;32m-> 1101\u001b[0;31m         \u001b[0mresult\u001b[0m \u001b[0;34m=\u001b[0m \u001b[0mop\u001b[0m\u001b[0;34m(\u001b[0m\u001b[0mleft_idx\u001b[0m\u001b[0;34m,\u001b[0m \u001b[0mright\u001b[0m\u001b[0;34m)\u001b[0m\u001b[0;34m\u001b[0m\u001b[0m\n\u001b[0m\u001b[1;32m   1102\u001b[0m     \u001b[0;32mexcept\u001b[0m \u001b[0mNullFrequencyError\u001b[0m\u001b[0;34m:\u001b[0m\u001b[0;34m\u001b[0m\u001b[0m\n\u001b[1;32m   1103\u001b[0m         \u001b[0;31m# DatetimeIndex and TimedeltaIndex with freq == None raise ValueError\u001b[0m\u001b[0;34m\u001b[0m\u001b[0;34m\u001b[0m\u001b[0m\n",
      "\u001b[0;32m/anaconda3/envs/cr2c-monitoring/lib/python3.6/site-packages/pandas/core/ops.py\u001b[0m in \u001b[0;36mradd\u001b[0;34m(left, right)\u001b[0m\n\u001b[1;32m    111\u001b[0m \u001b[0;34m\u001b[0m\u001b[0m\n\u001b[1;32m    112\u001b[0m \u001b[0;32mdef\u001b[0m \u001b[0mradd\u001b[0m\u001b[0;34m(\u001b[0m\u001b[0mleft\u001b[0m\u001b[0;34m,\u001b[0m \u001b[0mright\u001b[0m\u001b[0;34m)\u001b[0m\u001b[0;34m:\u001b[0m\u001b[0;34m\u001b[0m\u001b[0m\n\u001b[0;32m--> 113\u001b[0;31m     \u001b[0;32mreturn\u001b[0m \u001b[0mright\u001b[0m \u001b[0;34m+\u001b[0m \u001b[0mleft\u001b[0m\u001b[0;34m\u001b[0m\u001b[0m\n\u001b[0m\u001b[1;32m    114\u001b[0m \u001b[0;34m\u001b[0m\u001b[0m\n\u001b[1;32m    115\u001b[0m \u001b[0;34m\u001b[0m\u001b[0m\n",
      "\u001b[0;31mTypeError\u001b[0m: unsupported operand type(s) for +: 'datetime.date' and 'TimedeltaIndex'"
     ]
    }
   ],
   "source": [
    "# Initialize validation class\n",
    "cr2c_vl = val.cr2c_validation(outdir = valOutdir, hmi_path = hmi_path)\n",
    "\n",
    "# Get COD balance and biotech parameters (with plots)\n",
    "cr2c_vl.get_cod_bal(end_dt_str, 8, plot = True)\n",
    "cr2c_vl.get_biotech_params(end_dt_str, 8, plot = True)\n",
    "\n",
    "# Get validation plots\n",
    "cr2c_vl.instr_val(\n",
    "\tvaltypes = ['PH','PH'],\n",
    "\tstart_dt_str = mo1_start_dt_str,\n",
    "\tend_dt_str = end_dt_str,\n",
    "\thmi_elids = ['AT203','AT305'],\n",
    "\tltypes = ['PH','PH'],\t\n",
    "\tlstages = ['Microscreen','AFBR']\n",
    ")\n",
    "cr2c_vl.instr_val(\n",
    "\tvaltypes = ['DPI','DPI','PRESSURE','PRESSURE'],\n",
    "\tstart_dt_str = mo1_start_dt_str,\n",
    "\tend_dt_str = end_dt_str,\n",
    "\thmi_elids = ['DPIT300','DPIT301','PIT700','PIT704'],\n",
    "\tfld_varnames = [('Before Pump: R300','After Pump: R300'),('Before Pump: R301','After Pump: R301'),'Manometer Pressure: R300','Manometer Pressure: R301']\n",
    ")"
   ]
  },
  {
   "cell_type": "code",
   "execution_count": null,
   "metadata": {},
   "outputs": [],
   "source": []
  }
 ],
 "metadata": {
  "kernelspec": {
   "display_name": "Python 3",
   "language": "python",
   "name": "python3"
  },
  "language_info": {
   "codemirror_mode": {
    "name": "ipython",
    "version": 3
   },
   "file_extension": ".py",
   "mimetype": "text/x-python",
   "name": "python",
   "nbconvert_exporter": "python",
   "pygments_lexer": "ipython3",
   "version": "3.6.6"
  }
 },
 "nbformat": 4,
 "nbformat_minor": 2
}
